{
 "cells": [
  {
   "cell_type": "code",
   "execution_count": 1,
   "metadata": {
    "collapsed": true
   },
   "outputs": [],
   "source": [
    "import numpy as np\n",
    "from datetime import datetime, timedelta\n",
    "import pandas as pd\n",
    "from copy import deepcopy"
   ]
  },
  {
   "cell_type": "markdown",
   "metadata": {},
   "source": [
    "## Load initial schedule"
   ]
  },
  {
   "cell_type": "code",
   "execution_count": 2,
   "metadata": {
    "collapsed": true
   },
   "outputs": [],
   "source": [
    "schedule = pd.DataFrame(columns=('Date', 'Topic', 'Speaker'))\n",
    "with open(\"initial_schedule.dat\", \"r\") as f:\n",
    "    for n, line in enumerate(f):\n",
    "        entries = filter(bool, line.split(\"  \"))\n",
    "        if entries[1][0] == ' ':\n",
    "            date = entries[1][1:]\n",
    "        else:\n",
    "            date = entries[1]\n",
    "        schedule.loc[n] = ([datetime.strptime(date, '%Y-%m-%d'), \n",
    "                            entries[2], \n",
    "                            entries[3].replace(\"\\n\", \"\")])"
   ]
  },
  {
   "cell_type": "markdown",
   "metadata": {},
   "source": [
    "## Update schedule"
   ]
  },
  {
   "cell_type": "code",
   "execution_count": 3,
   "metadata": {
    "collapsed": true
   },
   "outputs": [],
   "source": [
    "def shift_meetings(original_schedule, date):\n",
    "    \"\"\"\n",
    "    Shifts the meeting scheduled for date (and the following meetings) by 1 week.\n",
    "    \n",
    "    Parameters\n",
    "    ----------\n",
    "        original_schedule, pd.DataFrame\n",
    "            Represents the up-to-date group meeting's schedule\n",
    "        date, str\n",
    "            Date to erase. Use format \"dd-mm-yyyy\"\n",
    "        \n",
    "    Returns\n",
    "    -------\n",
    "        schedule, pd.Dataframe\n",
    "            Represents the modified version of the group meeting\n",
    "    \"\"\"\n",
    "    schedule = deepcopy(original_schedule) # copy for this function\n",
    "    date_to_del = pd.Timestamp(date[6:10] + \"-\" + date[3:5] + \"-\" + date[0:2])\n",
    "    if not any(date_to_del == schedule['Date']):\n",
    "        raise ValueError(\"Invalid date!\")\n",
    "\n",
    "    indx = schedule.index[date_to_del == schedule['Date']][0]\n",
    "    schedule.loc[indx:, 'Date'] = schedule['Date'][indx:] + timedelta(7)\n",
    "    return schedule"
   ]
  },
  {
   "cell_type": "code",
   "execution_count": 4,
   "metadata": {
    "collapsed": true
   },
   "outputs": [],
   "source": [
    "def switch_speakers(original_schedule, d1, d2):\n",
    "    \"\"\"\n",
    "    Switch dates for two speakers\n",
    "    \n",
    "    Parameters\n",
    "    ----------\n",
    "        original_schedule, pd.DataFrame\n",
    "            Represents the up-to-date group meeting's schedule\n",
    "        date, str\n",
    "            Date to erase. Use format \"dd-mm-yyyy\"\n",
    "        \n",
    "    Returns\n",
    "    -------\n",
    "        schedule, pd.Dataframe\n",
    "            Represents the modified version of the group meeting\n",
    "    \"\"\"\n",
    "    schedule = deepcopy(original_schedule) # copy for this function\n",
    "    d1_to_sw = pd.Timestamp(d1[6:10] + \"-\" + d1[3:5] + \"-\" + d1[0:2])\n",
    "    d2_to_sw = pd.Timestamp(d2[6:10] + \"-\" + d2[3:5] + \"-\" + d2[0:2])\n",
    "    if not any(d1_to_sw == schedule['Date']): \n",
    "        raise ValueError(\"Invalid first date!\")\n",
    "    if not any(d2_to_sw == schedule['Date']): \n",
    "        raise ValueError(\"Invalid second date!\")\n",
    "    \n",
    "    indx1 = schedule.index[d1_to_sw == schedule['Date']][0]\n",
    "    indx2 = schedule.index[d2_to_sw == schedule['Date']][0]\n",
    "    # switch\n",
    "    temp = schedule['Speaker'][indx1]\n",
    "    schedule.loc[indx1, 'Speaker'] = schedule['Speaker'][indx2]\n",
    "    schedule.loc[indx2, 'Speaker'] = temp\n",
    "    return schedule"
   ]
  },
  {
   "cell_type": "markdown",
   "metadata": {
    "collapsed": true
   },
   "source": [
    "### Examples for future interventions\n",
    "\n",
    "* To shift all the meetings of 1 week starting from dd-mm-yyyy, use\n",
    "```python\n",
    "new_schedule = shift_meetings(schedule, \"dd-mm-yyyy\")\n",
    "```\n",
    "\n",
    "* To switch the speaker scheduled for d1-m1-yyy1 with the speaker scheduled for d2-m2-yyy2, use\n",
    "```python\n",
    "new_schedule = switch_speakers(schedule, \"d1-m1-yyy1\", \"d2-m2-yyy2\")\n",
    "```"
   ]
  },
  {
   "cell_type": "code",
   "execution_count": 5,
   "metadata": {},
   "outputs": [
    {
     "name": "stdout",
     "output_type": "stream",
     "text": [
      "         Date                  Topic     Speaker\n",
      "1  2018-04-12  ord. of mag. estimate      Robert\n",
      "2  2018-04-19           arxiv review   Stephanie\n",
      "3  2018-04-26         classic review       Keven\n",
      "4  2018-05-03  ord. of mag. estimate        Alex\n",
      "5  2018-05-10           arxiv review     Ruggero\n",
      "6  2018-05-17         classic review        Adam\n",
      "7  2018-05-24  ord. of mag. estimate      Oliver\n",
      "8  2018-05-31           arxiv review    Benjamin\n",
      "9  2018-06-07         classic review     Ruggero\n",
      "10 2018-06-14  ord. of mag. estimate    Benjamin\n",
      "11 2018-06-21           arxiv review       Keven\n",
      "12 2018-06-28         classic review      Robert\n",
      "13 2018-07-05  ord. of mag. estimate   Stephanie\n",
      "14 2018-07-12           arxiv review     Rachael\n",
      "15 2018-07-19         classic review      Oliver\n",
      "16 2018-07-26  ord. of mag. estimate        Adam\n",
      "17 2018-08-02           arxiv review        Alex\n",
      "18 2018-08-09         classic review    Benjamin\n",
      "19 2018-08-16  ord. of mag. estimate       Keven\n",
      "20 2018-08-23           arxiv review      Oliver\n",
      "21 2018-08-30         classic review   Stephanie\n",
      "22 2018-09-06  ord. of mag. estimate     Ruggero\n",
      "23 2018-09-13           arxiv review        Adam\n",
      "24 2018-09-20         classic review        Alex\n",
      "25 2018-09-27  ord. of mag. estimate     Rachael\n",
      "26 2018-10-04           arxiv review      Robert\n"
     ]
    }
   ],
   "source": [
    "new_schedule = shift_meetings(schedule, \"22-03-2018\") # We ran out of time this week!\n",
    "new_schedule = shift_meetings(new_schedule, \"29-03-2018\") # Special Talk\n",
    "new_schedule = switch_speakers(new_schedule, \"05-04-2018\", \"26-04-2018\") # Too few people\n",
    "print new_schedule[new_schedule[\"Date\"] > pd.Timestamp('today')]"
   ]
  },
  {
   "cell_type": "code",
   "execution_count": null,
   "metadata": {
    "collapsed": true
   },
   "outputs": [],
   "source": []
  }
 ],
 "metadata": {
  "kernelspec": {
   "display_name": "Python 2",
   "language": "python",
   "name": "python2"
  },
  "language_info": {
   "codemirror_mode": {
    "name": "ipython",
    "version": 2
   },
   "file_extension": ".py",
   "mimetype": "text/x-python",
   "name": "python",
   "nbconvert_exporter": "python",
   "pygments_lexer": "ipython2",
   "version": "2.7.12"
  }
 },
 "nbformat": 4,
 "nbformat_minor": 2
}
