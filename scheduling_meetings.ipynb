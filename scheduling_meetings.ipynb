{
 "cells": [
  {
   "cell_type": "code",
   "execution_count": 1,
   "metadata": {
    "collapsed": true
   },
   "outputs": [],
   "source": [
    "import pandas as pd\n",
    "from utils import *"
   ]
  },
  {
   "cell_type": "code",
   "execution_count": 2,
   "metadata": {
    "collapsed": true
   },
   "outputs": [],
   "source": [
    "schedule = load_initial_schedule()"
   ]
  },
  {
   "cell_type": "markdown",
   "metadata": {
    "collapsed": true
   },
   "source": [
    "### Examples for future interventions\n",
    "\n",
    "* To shift all the meetings of 1 week starting from dd-mm-yyyy, use\n",
    "```python\n",
    "new_schedule = shift_meetings(schedule, \"dd-mm-yyyy\")\n",
    "```\n",
    "\n",
    "* To switch the speaker scheduled for d1-m1-yyy1 with the speaker scheduled for d2-m2-yyy2, use\n",
    "```python\n",
    "new_schedule = switch_speakers(schedule, \"d1-m1-yyy1\", \"d2-m2-yyy2\")\n",
    "```"
   ]
  },
  {
   "cell_type": "code",
   "execution_count": 3,
   "metadata": {},
   "outputs": [],
   "source": [
    "new_schedule = shift_meetings(schedule, \"22-03-2018\") # We ran out of time this week!\n",
    "new_schedule = shift_meetings(new_schedule, \"29-03-2018\") # Special Talk\n",
    "new_schedule = switch_speakers(new_schedule, \"05-04-2018\", \"26-04-2018\") # Too few people\n",
    "save_schedule(new_schedule)"
   ]
  }
 ],
 "metadata": {
  "kernelspec": {
   "display_name": "Python 2",
   "language": "python",
   "name": "python2"
  },
  "language_info": {
   "codemirror_mode": {
    "name": "ipython",
    "version": 2
   },
   "file_extension": ".py",
   "mimetype": "text/x-python",
   "name": "python",
   "nbconvert_exporter": "python",
   "pygments_lexer": "ipython2",
   "version": "2.7.12"
  }
 },
 "nbformat": 4,
 "nbformat_minor": 2
}
