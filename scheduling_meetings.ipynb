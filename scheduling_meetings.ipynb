{
 "cells": [
  {
   "cell_type": "code",
   "execution_count": 1,
   "metadata": {
    "collapsed": true
   },
   "outputs": [],
   "source": [
    "import pandas as pd\n",
    "from utils import load_initial_schedule, shift_meetings, switch_speakers"
   ]
  },
  {
   "cell_type": "code",
   "execution_count": 2,
   "metadata": {
    "collapsed": true
   },
   "outputs": [],
   "source": [
    "schedule = load_initial_schedule()"
   ]
  },
  {
   "cell_type": "markdown",
   "metadata": {
    "collapsed": true
   },
   "source": [
    "### Examples for future interventions\n",
    "\n",
    "* To shift all the meetings of 1 week starting from dd-mm-yyyy, use\n",
    "```python\n",
    "new_schedule = shift_meetings(schedule, \"dd-mm-yyyy\")\n",
    "```\n",
    "\n",
    "* To switch the speaker scheduled for d1-m1-yyy1 with the speaker scheduled for d2-m2-yyy2, use\n",
    "```python\n",
    "new_schedule = switch_speakers(schedule, \"d1-m1-yyy1\", \"d2-m2-yyy2\")\n",
    "```"
   ]
  },
  {
   "cell_type": "code",
   "execution_count": 3,
   "metadata": {},
   "outputs": [
    {
     "name": "stdout",
     "output_type": "stream",
     "text": [
      "         Date                  Topic     Speaker\n",
      "3  2018-04-26         classic review       Keven\n",
      "4  2018-05-03  ord. of mag. estimate        Alex\n",
      "5  2018-05-10           arxiv review     Ruggero\n",
      "6  2018-05-17         classic review        Adam\n",
      "7  2018-05-24  ord. of mag. estimate      Oliver\n",
      "8  2018-05-31           arxiv review    Benjamin\n",
      "9  2018-06-07         classic review     Ruggero\n",
      "10 2018-06-14  ord. of mag. estimate    Benjamin\n",
      "11 2018-06-21           arxiv review       Keven\n",
      "12 2018-06-28         classic review      Robert\n",
      "13 2018-07-05  ord. of mag. estimate   Stephanie\n",
      "14 2018-07-12           arxiv review     Rachael\n",
      "15 2018-07-19         classic review      Oliver\n",
      "16 2018-07-26  ord. of mag. estimate        Adam\n",
      "17 2018-08-02           arxiv review        Alex\n",
      "18 2018-08-09         classic review    Benjamin\n",
      "19 2018-08-16  ord. of mag. estimate       Keven\n",
      "20 2018-08-23           arxiv review      Oliver\n",
      "21 2018-08-30         classic review   Stephanie\n",
      "22 2018-09-06  ord. of mag. estimate     Ruggero\n",
      "23 2018-09-13           arxiv review        Adam\n",
      "24 2018-09-20         classic review        Alex\n",
      "25 2018-09-27  ord. of mag. estimate     Rachael\n",
      "26 2018-10-04           arxiv review      Robert\n"
     ]
    }
   ],
   "source": [
    "new_schedule = shift_meetings(schedule, \"22-03-2018\") # We ran out of time this week!\n",
    "new_schedule = shift_meetings(new_schedule, \"29-03-2018\") # Special Talk\n",
    "new_schedule = switch_speakers(new_schedule, \"05-04-2018\", \"26-04-2018\") # Too few people\n",
    "print new_schedule[new_schedule[\"Date\"] >= pd.Timestamp('today')]"
   ]
  },
  {
   "cell_type": "code",
   "execution_count": null,
   "metadata": {
    "collapsed": true
   },
   "outputs": [],
   "source": []
  },
  {
   "cell_type": "code",
   "execution_count": null,
   "metadata": {
    "collapsed": true
   },
   "outputs": [],
   "source": []
  }
 ],
 "metadata": {
  "kernelspec": {
   "display_name": "Python 2",
   "language": "python",
   "name": "python2"
  },
  "language_info": {
   "codemirror_mode": {
    "name": "ipython",
    "version": 2
   },
   "file_extension": ".py",
   "mimetype": "text/x-python",
   "name": "python",
   "nbconvert_exporter": "python",
   "pygments_lexer": "ipython2",
   "version": "2.7.12"
  }
 },
 "nbformat": 4,
 "nbformat_minor": 2
}
