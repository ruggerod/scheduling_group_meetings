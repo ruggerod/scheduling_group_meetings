{
 "cells": [
  {
   "cell_type": "code",
   "execution_count": 1,
   "metadata": {
    "collapsed": true
   },
   "outputs": [],
   "source": [
    "import numpy as np\n",
    "from datetime import datetime, timedelta\n",
    "import pandas as pd\n",
    "from copy import deepcopy"
   ]
  },
  {
   "cell_type": "markdown",
   "metadata": {},
   "source": [
    "### Definitions and randomization"
   ]
  },
  {
   "cell_type": "code",
   "execution_count": 2,
   "metadata": {},
   "outputs": [
    {
     "data": {
      "text/plain": [
       "['Stephanie', 'Alex', 'Keven', 'Robert', 'Ruggero', 'Rachel']"
      ]
     },
     "execution_count": 2,
     "metadata": {},
     "output_type": "execute_result"
    }
   ],
   "source": [
    "# define (and randomly shuffle) PhD and Post-doc speakers\n",
    "veterans = ['Robert', 'Rachel', 'Stephanie', 'Ruggero', 'Keven', 'Alex']\n",
    "np.random.shuffle(veterans)\n",
    "veterans"
   ]
  },
  {
   "cell_type": "code",
   "execution_count": 3,
   "metadata": {},
   "outputs": [
    {
     "data": {
      "text/plain": [
       "['Oliver', 'Benjamin', 'Adam']"
      ]
     },
     "execution_count": 3,
     "metadata": {},
     "output_type": "execute_result"
    }
   ],
   "source": [
    "# define (and randomly shuffle) Master speakers\n",
    "rookies = ['Oliver','Adam','Benjamin']\n",
    "np.random.shuffle(rookies)\n",
    "rookies"
   ]
  },
  {
   "cell_type": "code",
   "execution_count": 4,
   "metadata": {},
   "outputs": [
    {
     "data": {
      "text/plain": [
       "['classic review', 'ord. of mag. estimate', 'arxiv review']"
      ]
     },
     "execution_count": 4,
     "metadata": {},
     "output_type": "execute_result"
    }
   ],
   "source": [
    "# define (and randomly shuffle) possible topics for the meeting\n",
    "topics = ['arxiv review', 'classic review', 'ord. of mag. estimate']\n",
    "np.random.shuffle(topics)\n",
    "topics"
   ]
  },
  {
   "cell_type": "markdown",
   "metadata": {},
   "source": [
    "### Calculate Group Meetings' (initial) schedule\n",
    "\n",
    "* Master students are given a little time to \"learn\" from \"veterans\" for the first meetings.\n",
    "* Each speaker should present each topic once.\n",
    "* For N speakers, N*3 weeks are needed to finish the entire cycle.\n",
    "* Each speaker should speak once every N weeks."
   ]
  },
  {
   "cell_type": "code",
   "execution_count": 5,
   "metadata": {},
   "outputs": [
    {
     "name": "stdout",
     "output_type": "stream",
     "text": [
      "         Date                  Topic    Speaker\n",
      "0  2018-03-22         classic review  Stephanie\n",
      "1  2018-03-29  ord. of mag. estimate       Alex\n",
      "2  2018-04-05           arxiv review      Keven\n",
      "3  2018-04-12         classic review     Robert\n",
      "4  2018-04-19  ord. of mag. estimate    Ruggero\n",
      "5  2018-04-26           arxiv review     Rachel\n",
      "6  2018-05-03         classic review     Oliver\n",
      "7  2018-05-10  ord. of mag. estimate   Benjamin\n",
      "8  2018-05-17           arxiv review       Adam\n",
      "9  2018-05-24  ord. of mag. estimate  Stephanie\n",
      "10 2018-05-31           arxiv review       Alex\n",
      "11 2018-06-07         classic review      Keven\n",
      "12 2018-06-14  ord. of mag. estimate     Robert\n",
      "13 2018-06-21           arxiv review    Ruggero\n",
      "14 2018-06-28         classic review     Rachel\n",
      "15 2018-07-05  ord. of mag. estimate     Oliver\n",
      "16 2018-07-12           arxiv review   Benjamin\n",
      "17 2018-07-19         classic review       Adam\n",
      "18 2018-07-26           arxiv review  Stephanie\n",
      "19 2018-08-02         classic review       Alex\n",
      "20 2018-08-09  ord. of mag. estimate      Keven\n",
      "21 2018-08-16           arxiv review     Robert\n",
      "22 2018-08-23         classic review    Ruggero\n",
      "23 2018-08-30  ord. of mag. estimate     Rachel\n",
      "24 2018-09-06           arxiv review     Oliver\n",
      "25 2018-09-13         classic review   Benjamin\n",
      "26 2018-09-20  ord. of mag. estimate       Adam\n"
     ]
    }
   ],
   "source": [
    "speakers = veterans + rookies\n",
    "today = datetime.today().toordinal()\n",
    "schedule = pd.DataFrame(columns=('Date', 'Topic', 'Speaker'))\n",
    "\n",
    "day = today\n",
    "topics_1st = [topics[n%3] for n in range(len(speakers))] # re-cycle topics\n",
    "for n in range(len(speakers)):\n",
    "    day += 7\n",
    "    schedule.loc[n] = ([datetime.fromordinal(day), topics_1st[n], speakers[n]])\n",
    "    \n",
    "topics_2nd = topics_1st[1:] + [topics_1st[0],] # shift topics_1st by 1 element\n",
    "for n in range(len(speakers)):\n",
    "    day += 7\n",
    "    schedule.loc[n + len(speakers)] = ([datetime.fromordinal(day), topics_2nd[n], speakers[n]])\n",
    "    \n",
    "topics_3rd = topics_2nd[1:] + [topics_2nd[0],] # shift topics_2nd by 1 element\n",
    "for n in range(len(speakers)):\n",
    "    day += 7\n",
    "    schedule.loc[n + 2*len(speakers)] = ([datetime.fromordinal(day), topics_3rd[n], speakers[n]])\n",
    "print schedule"
   ]
  },
  {
   "cell_type": "markdown",
   "metadata": {},
   "source": [
    "### Ad-hoc modifications"
   ]
  },
  {
   "cell_type": "code",
   "execution_count": 6,
   "metadata": {},
   "outputs": [],
   "source": [
    "def shift_meeting(original_schedule, date):\n",
    "    \"\"\"\n",
    "    Shifts the meeting scheduled for date (and the following meetings) by 1 week.\n",
    "    \n",
    "    Parameters\n",
    "    ----------\n",
    "        original_schedule, pd.DataFrame\n",
    "            Represents the up-to-date group meeting's schedule\n",
    "        date, str\n",
    "            Date to erease. Use format \"dd-mm-yyyy\"\n",
    "        \n",
    "    Returns\n",
    "    -------\n",
    "        schedule, pd.Dataframe\n",
    "            Represents the modified version of the group meeting\n",
    "    \"\"\"\n",
    "    schedule = deepcopy(original_schedule) # copy for this function\n",
    "    date_to_del = pd.Timestamp(date[6:10] + \"-\" + date[3:5] + \"-\" + date[0:2])\n",
    "    if not any(date_to_del == schedule['Date']):\n",
    "        raise ValueError(\"Invalid date!\")\n",
    "\n",
    "    indx = schedule.index[date_to_del == schedule['Date']][0]\n",
    "    schedule.loc[indx:, 'Date'] = schedule['Date'][indx:] + timedelta(7)\n",
    "    return schedule"
   ]
  },
  {
   "cell_type": "code",
   "execution_count": 7,
   "metadata": {
    "collapsed": true
   },
   "outputs": [],
   "source": [
    "def switch_speakers(original_schedule, d1, d2):\n",
    "    \"\"\"\n",
    "    Switch dates for two speakers\n",
    "    \n",
    "    Parameters\n",
    "    ----------\n",
    "        original_schedule, pd.DataFrame\n",
    "            Represents the up-to-date group meeting's schedule\n",
    "        date, str\n",
    "            Date to erease. Use format \"dd-mm-yyyy\"\n",
    "        \n",
    "    Returns\n",
    "    -------\n",
    "        schedule, pd.Dataframe\n",
    "            Represents the modified version of the group meeting\n",
    "    \"\"\"\n",
    "    schedule = deepcopy(original_schedule) # copy for this function\n",
    "    d1_to_sw = pd.Timestamp(d1[6:10] + \"-\" + d1[3:5] + \"-\" + d1[0:2])\n",
    "    d2_to_sw = pd.Timestamp(d2[6:10] + \"-\" + d2[3:5] + \"-\" + d2[0:2])\n",
    "    if not any(d1_to_sw == schedule['Date']): \n",
    "        raise ValueError(\"Invalid first date!\")\n",
    "    if not any(d2_to_sw == schedule['Date']): \n",
    "        raise ValueError(\"Invalid second date!\")\n",
    "    \n",
    "    indx1 = schedule.index[d1_to_sw == schedule['Date']][0]\n",
    "    indx2 = schedule.index[d2_to_sw == schedule['Date']][0]\n",
    "    # switch\n",
    "    temp = (schedule['Topic'][indx1], schedule['Speaker'][indx1])\n",
    "    schedule.loc[indx1, 'Topic'] = schedule['Topic'][indx2]\n",
    "    schedule.loc[indx1, 'Speaker'] = schedule['Speaker'][indx2]\n",
    "    schedule.loc[indx2, 'Topic'] = temp[0]\n",
    "    schedule.loc[indx2, 'Speaker'] = temp[1]\n",
    "    return schedule"
   ]
  },
  {
   "cell_type": "markdown",
   "metadata": {
    "collapsed": true
   },
   "source": [
    "### Examples for future interventions\n",
    "\n",
    "* To shift all the meetings of 1 week starting from dd-mm-yyyy, use\n",
    "```python\n",
    "new_schedule = shift_meeting(schedule, \"dd-mm-yyyy\")\n",
    "```\n",
    "\n",
    "* To switch the speaker scheduled for d1-m1-yyy1 with the speaker scheduled for d2-m2-yyy2, use\n",
    "```python\n",
    "new_schedule = switch_schedule(schedule, \"d1-m1-yyy1\", \"d2-m2-yyy2\")\n",
    "```"
   ]
  },
  {
   "cell_type": "code",
   "execution_count": null,
   "metadata": {
    "collapsed": true
   },
   "outputs": [],
   "source": []
  }
 ],
 "metadata": {
  "kernelspec": {
   "display_name": "Python 2",
   "language": "python",
   "name": "python2"
  },
  "language_info": {
   "codemirror_mode": {
    "name": "ipython",
    "version": 2
   },
   "file_extension": ".py",
   "mimetype": "text/x-python",
   "name": "python",
   "nbconvert_exporter": "python",
   "pygments_lexer": "ipython2",
   "version": "2.7.12"
  }
 },
 "nbformat": 4,
 "nbformat_minor": 2
}
